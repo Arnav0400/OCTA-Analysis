{
 "cells": [
  {
   "cell_type": "code",
   "execution_count": 72,
   "metadata": {},
   "outputs": [],
   "source": [
    "import matplotlib.pyplot as plt\n",
    "import numpy as np"
   ]
  },
  {
   "cell_type": "code",
   "execution_count": 73,
   "metadata": {},
   "outputs": [],
   "source": [
    "zeros = np.zeros((20,20))"
   ]
  },
  {
   "cell_type": "code",
   "execution_count": 74,
   "metadata": {},
   "outputs": [
    {
     "data": {
      "text/plain": [
       "<matplotlib.image.AxesImage at 0x23739df5848>"
      ]
     },
     "execution_count": 74,
     "metadata": {},
     "output_type": "execute_result"
    },
    {
     "data": {
      "image/png": "[encoded data removed]",
      "text/plain": [
       "<Figure size 432x288 with 1 Axes>"
      ]
     },
     "metadata": {
      "needs_background": "light"
     },
     "output_type": "display_data"
    }
   ],
   "source": [
    "plt.imshow(zeros)"
   ]
  },
  {
   "cell_type": "code",
   "execution_count": 75,
   "metadata": {},
   "outputs": [],
   "source": [
    "zeros[10,10] = 1"
   ]
  },
  {
   "cell_type": "code",
   "execution_count": 76,
   "metadata": {},
   "outputs": [
    {
     "data": {
      "text/plain": [
       "<matplotlib.image.AxesImage at 0x23739e4cc88>"
      ]
     },
     "execution_count": 76,
     "metadata": {},
     "output_type": "execute_result"
    },
    {
     "data": {
      "image/png": "[encoded data removed]",
      "text/plain": [
       "<Figure size 432x288 with 1 Axes>"
      ]
     },
     "metadata": {
      "needs_background": "light"
     },
     "output_type": "display_data"
    }
   ],
   "source": [
    "plt.imshow(zeros)"
   ]
  },
  {
   "cell_type": "code",
   "execution_count": 77,
   "metadata": {},
   "outputs": [],
   "source": [
    "r = 5\n",
    "d_theta = np.pi/180\n",
    "zeros[15,10] = 1\n",
    "# zeros[10,15] = 1"
   ]
  },
  {
   "cell_type": "code",
   "execution_count": 78,
   "metadata": {},
   "outputs": [
    {
     "name": "stdout",
     "output_type": "stream",
     "text": [
      "15 10\n",
      "15 10\n"
     ]
    }
   ],
   "source": [
    "detected = list()\n",
    "for i in range(361):\n",
    "    if zeros[10+int(r*np.cos(d_theta*i)),10+int(r*np.sin(d_theta*i))] == 1:\n",
    "        print(10+int(r*np.cos(d_theta*i)),10+int(r*np.sin(d_theta*i)))\n",
    "        detected.append([10+int(r*np.cos(d_theta*i)),10+int(r*np.sin(d_theta*i))])"
   ]
  },
  {
   "cell_type": "code",
   "execution_count": 79,
   "metadata": {},
   "outputs": [
    {
     "data": {
      "text/plain": [
       "<matplotlib.image.AxesImage at 0x2373b39b188>"
      ]
     },
     "execution_count": 79,
     "metadata": {},
     "output_type": "execute_result"
    },
    {
     "data": {
      "image/png": "[encoded data removed]",
      "text/plain": [
       "<Figure size 432x288 with 1 Axes>"
      ]
     },
     "metadata": {
      "needs_background": "light"
     },
     "output_type": "display_data"
    }
   ],
   "source": [
    "plt.imshow(zeros)"
   ]
  },
  {
   "cell_type": "code",
   "execution_count": 80,
   "metadata": {},
   "outputs": [
    {
     "data": {
      "text/plain": [
       "[[15, 10], [15, 10]]"
      ]
     },
     "execution_count": 80,
     "metadata": {},
     "output_type": "execute_result"
    }
   ],
   "source": [
    "detected"
   ]
  },
  {
   "cell_type": "code",
   "execution_count": 81,
   "metadata": {},
   "outputs": [],
   "source": [
    "def calcAngle(origin,p1,p2):\n",
    "    orx = origin[0]\n",
    "    ory = origin[1]\n",
    "    p1x = p1[0]\n",
    "    p1y = p1[1]\n",
    "    p2x = p2[0]\n",
    "    p2y = p2[1]\n",
    "    p1x-=orx\n",
    "    p2x-=orx\n",
    "    p1y-=ory\n",
    "    p2y-=ory\n",
    "    dot = p1x*p2x+p1y*p2y\n",
    "    mod = np.sqrt(p1x**2+p1y**2)*np.sqrt(p2x**2+p2y**2)\n",
    "    angle = np.arccos(dot/mod)\n",
    "    angle/=np.pi\n",
    "    angle*=180\n",
    "    return angle"
   ]
  },
  {
   "cell_type": "code",
   "execution_count": 82,
   "metadata": {},
   "outputs": [
    {
     "data": {
      "text/plain": [
       "90.0"
      ]
     },
     "execution_count": 82,
     "metadata": {},
     "output_type": "execute_result"
    }
   ],
   "source": [
    "calcAngle([10,10],[15,10],[10,15])"
   ]
  },
  {
   "cell_type": "code",
   "execution_count": 83,
   "metadata": {},
   "outputs": [],
   "source": [
    "def detectPoints(image,origin,r=5):\n",
    "    detected = list()\n",
    "    d_theta = np.pi/180\n",
    "    for i in range(361):\n",
    "        if zeros[origin[0]+int(r*np.cos(d_theta*i)),origin[1]+int(r*np.sin(d_theta*i))] == 1:\n",
    "#             print(10+int(r*np.cos(d_theta*i)),10+int(r*np.sin(d_theta*i)))\n",
    "            detected.append([10+int(r*np.cos(d_theta*i)),10+int(r*np.sin(d_theta*i))])\n",
    "    return detected"
   ]
  },
  {
   "cell_type": "code",
   "execution_count": 84,
   "metadata": {},
   "outputs": [
    {
     "data": {
      "text/plain": [
       "[[15, 10], [15, 10]]"
      ]
     },
     "execution_count": 84,
     "metadata": {},
     "output_type": "execute_result"
    }
   ],
   "source": [
    "detectPoints(zeros,[10,10])"
   ]
  },
  {
   "cell_type": "code",
   "execution_count": null,
   "metadata": {},
   "outputs": [],
   "source": []
  }
 ],
 "metadata": {
  "kernelspec": {
   "display_name": "Python 3",
   "language": "python",
   "name": "python3"
  },
  "language_info": {
   "codemirror_mode": {
    "name": "ipython",
    "version": 3
   },
   "file_extension": ".py",
   "mimetype": "text/x-python",
   "name": "python",
   "nbconvert_exporter": "python",
   "pygments_lexer": "ipython3",
   "version": "3.7.3"
  }
 },
 "nbformat": 4,
 "nbformat_minor": 4
}
