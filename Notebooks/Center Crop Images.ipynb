{
 "cells": [
  {
   "cell_type": "code",
   "execution_count": null,
   "metadata": {},
   "outputs": [],
   "source": [
    "import matplotlib.pyplot as plt\n",
    "import numpy as np\n",
    "import pandas as pd\n",
    "import os\n",
    "import glob\n",
    "import cv2\n",
    "from albumentations import Rotate\n",
    "from scipy import ndimage\n",
    "import imutils\n",
    "from skimage import data\n",
    "from skimage import color\n",
    "from skimage.filters import meijering, sato, frangi, hessian\n",
    "from skimage.morphology import medial_axis, skeletonize, thin, remove_small_objects\n",
    "import rdp\n",
    "import math\n",
    "from tqdm import tqdm\n",
    "import sys\n",
    "sys.path.insert()"
   ]
  },
  {
   "cell_type": "code",
   "execution_count": null,
   "metadata": {},
   "outputs": [],
   "source": [
    "def clean_image(img):\n",
    "    \"\"\"\n",
    "    To delete name and centercrop\n",
    "    \"\"\"\n",
    "    H,W = img.shape\n",
    "    img = img[:W,...]\n",
    "#     img = cv2.cvtColor(img, cv2.COLOR_BGR2GRAY)\n",
    "    return img"
   ]
  },
  {
   "cell_type": "code",
   "execution_count": null,
   "metadata": {},
   "outputs": [],
   "source": [
    "def crop_image(img):\n",
    "    H,W = img.shape\n",
    "    img = img[:W,...]\n",
    "    img = img[W//4:W//4+W//2,W//4:W//4+W//2]\n",
    "    return img"
   ]
  },
  {
   "cell_type": "code",
   "execution_count": null,
   "metadata": {},
   "outputs": [],
   "source": [
    "def crop_image_with_padding(img, w):\n",
    "    H,W = img.shape\n",
    "    img = img[:W,...]\n",
    "    img = img[W//4-w//2:W//4+W//2+w//2,W//4-w//2:W//4+W//2+w//2]\n",
    "    return img"
   ]
  },
  {
   "cell_type": "code",
   "execution_count": null,
   "metadata": {},
   "outputs": [],
   "source": [
    "def remove_boundary(img, w):\n",
    "    H, W = img.shape\n",
    "    img = img[w//2:-w//2+1,w//2:-w//2+1]\n",
    "    return img"
   ]
  },
  {
   "cell_type": "code",
   "execution_count": null,
   "metadata": {},
   "outputs": [],
   "source": [
    "root_orig = '../Data/FAZ_Tortuosity/Normal/'\n",
    "root_mypoic = '../Data/FAZ_Tortuosity/Myopia/'\n",
    "root_marked = '../Data/FAZ_Tortuosity/Vessel_marked/'\n",
    "out_preprocessed = '../Data/center_cropped/'\n",
    "!mkdir '../Data/center_cropped/'"
   ]
  },
  {
   "cell_type": "code",
   "execution_count": null,
   "metadata": {},
   "outputs": [],
   "source": [
    "normals = glob.glob(root_orig+'*')\n",
    "myopics = glob.glob(root_mypoic+'*')\n",
    "paths = normals+myopics\n",
    "for i, path in enumerate(tqdm(paths)):\n",
    "    img = cv2.imread(path,0)\n",
    "    img = clean_image(img)\n",
    "    img = cv2.resize(img, (420, 420))\n",
    "    img = crop_image(img)\n",
    "    H, W = img.shape\n",
    "    mask = np.zeros_like(img, np.uint8)\n",
    "    mask = cv2.circle(mask, (H//2,W//2), H//2, (255,255,255),thickness=-1)\n",
    "    img = img*(mask//255)\n",
    "    cv2.imwrite(out_preprocessed+path.split('/')[4], img)\n",
    "    plt.imshow(img, cmap = 'gray')"
   ]
  }
 ],
 "metadata": {
  "kernelspec": {
   "display_name": "Python 3",
   "language": "python",
   "name": "python3"
  },
  "language_info": {
   "codemirror_mode": {
    "name": "ipython",
    "version": 3
   },
   "file_extension": ".py",
   "mimetype": "text/x-python",
   "name": "python",
   "nbconvert_exporter": "python",
   "pygments_lexer": "ipython3",
   "version": "3.7.6"
  }
 },
 "nbformat": 4,
 "nbformat_minor": 2
}
