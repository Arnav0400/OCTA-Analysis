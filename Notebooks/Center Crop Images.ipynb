{
 "cells": [
  {
   "cell_type": "code",
   "execution_count": 2,
   "metadata": {},
   "outputs": [],
   "source": [
    "import matplotlib.pyplot as plt\n",
    "import numpy as np\n",
    "import pandas as pd\n",
    "import os\n",
    "import glob\n",
    "import cv2\n",
    "from albumentations import Rotate\n",
    "from scipy import ndimage\n",
    "import imutils\n",
    "from skimage import data\n",
    "from skimage import color\n",
    "from skimage.filters import meijering, sato, frangi, hessian\n",
    "from skimage.morphology import medial_axis, skeletonize, thin, remove_small_objects\n",
    "import rdp\n",
    "import math\n",
    "from tqdm import tqdm\n",
    "import sys"
   ]
  },
  {
   "cell_type": "code",
   "execution_count": 3,
   "metadata": {},
   "outputs": [],
   "source": [
    "def clean_image(img):\n",
    "    \"\"\"\n",
    "    To delete name and centercrop\n",
    "    \"\"\"\n",
    "    H,W = img.shape\n",
    "    img = img[:W,...]\n",
    "#     img = cv2.cvtColor(img, cv2.COLOR_BGR2GRAY)\n",
    "    return img"
   ]
  },
  {
   "cell_type": "code",
   "execution_count": 4,
   "metadata": {},
   "outputs": [],
   "source": [
    "def crop_image(img):\n",
    "    H,W = img.shape\n",
    "    img = img[:W,...]\n",
    "    img = img[W//4:W//4+W//2,W//4:W//4+W//2]\n",
    "    return img"
   ]
  },
  {
   "cell_type": "code",
   "execution_count": 5,
   "metadata": {},
   "outputs": [],
   "source": [
    "def crop_image_with_padding(img, w):\n",
    "    H,W = img.shape\n",
    "    img = img[:W,...]\n",
    "    img = img[W//4-w//2:W//4+W//2+w//2,W//4-w//2:W//4+W//2+w//2]\n",
    "    return img"
   ]
  },
  {
   "cell_type": "code",
   "execution_count": 6,
   "metadata": {},
   "outputs": [],
   "source": [
    "def remove_boundary(img, w):\n",
    "    H, W = img.shape\n",
    "    img = img[w//2:-w//2+1,w//2:-w//2+1]\n",
    "    return img"
   ]
  },
  {
   "cell_type": "code",
   "execution_count": 16,
   "metadata": {},
   "outputs": [
    {
     "name": "stdout",
     "output_type": "stream",
     "text": [
      "mkdir: cannot create directory ‘../Data/SPIE_2020_Retinal_Tortuosity/Myopia-cropped/’: File exists\n",
      "mkdir: cannot create directory ‘../Data/SPIE_2020_Retinal_Tortuosity/Emmetropia-cropped/’: File exists\n",
      "mkdir: cannot create directory ‘../Data/SPIE_2020_Retinal_Tortuosity/Hypermetropia-cropped/’: File exists\n"
     ]
    }
   ],
   "source": [
    "root_orig1 = '../Data/SPIE_2020_Retinal_Tortuosity/Myopia/'\n",
    "root_orig2 = '../Data/SPIE_2020_Retinal_Tortuosity/Emmetropia/'\n",
    "root_orig3 = '../Data/SPIE_2020_Retinal_Tortuosity/Hypermetropia/'\n",
    "!mkdir '../Data/SPIE_2020_Retinal_Tortuosity/Myopia-cropped/'\n",
    "!mkdir '../Data/SPIE_2020_Retinal_Tortuosity/Emmetropia-cropped/'\n",
    "!mkdir '../Data/SPIE_2020_Retinal_Tortuosity/Hypermetropia-cropped/'\n",
    "out_preprocessed = '../Data/SPIE_2020_Retinal_Tortuosity/'"
   ]
  },
  {
   "cell_type": "code",
   "execution_count": 17,
   "metadata": {},
   "outputs": [
    {
     "name": "stderr",
     "output_type": "stream",
     "text": [
      "100%|██████████| 65/65 [00:02<00:00, 25.76it/s]\n"
     ]
    }
   ],
   "source": [
    "normals = glob.glob(root_orig1+'*')\n",
    "myopics = glob.glob(root_orig2+'*')\n",
    "hypermetropics = glob.glob(root_orig3+'*')\n",
    "paths = normals+myopics+hypermetropics\n",
    "for i, path in enumerate(tqdm(paths)):\n",
    "    img = cv2.imread(path,0)\n",
    "    img = clean_image(img)\n",
    "    img = cv2.resize(img, (420, 420))\n",
    "    img = crop_image(img)\n",
    "    H, W = img.shape\n",
    "    mask = np.zeros_like(img, np.uint8)\n",
    "    mask = cv2.circle(mask, (H//2,W//2), H//2, (255,255,255),thickness=-1)\n",
    "    img = img*(mask//255)\n",
    "    cv2.imwrite(out_preprocessed+path.split('/')[3]+'-cropped/'+path.split('/')[4], img)\n",
    "#     plt.imshow(img, cmap = 'gray')"
   ]
  }
 ],
 "metadata": {
  "kernelspec": {
   "display_name": "Python 3",
   "language": "python",
   "name": "python3"
  },
  "language_info": {
   "codemirror_mode": {
    "name": "ipython",
    "version": 3
   },
   "file_extension": ".py",
   "mimetype": "text/x-python",
   "name": "python",
   "nbconvert_exporter": "python",
   "pygments_lexer": "ipython3",
   "version": "3.7.6"
  }
 },
 "nbformat": 4,
 "nbformat_minor": 2
}
