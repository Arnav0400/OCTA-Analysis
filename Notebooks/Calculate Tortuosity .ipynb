{
 "cells": [
  {
   "cell_type": "code",
   "execution_count": 1,
   "metadata": {},
   "outputs": [],
   "source": [
    "import matplotlib.pyplot as plt\n",
    "import numpy as np\n",
    "import pandas as pd\n",
    "import os\n",
    "import glob\n",
    "import cv2\n",
    "from albumentations import Rotate\n",
    "from scipy import ndimage\n",
    "import imutils\n",
    "from skimage import data\n",
    "from skimage import color\n",
    "from skimage.filters import meijering, sato, frangi, hessian\n",
    "from skimage.morphology import medial_axis, skeletonize, thin, remove_small_objects\n",
    "import rdp\n",
    "import math\n",
    "from tqdm import tqdm\n",
    "import sys\n",
    "sys.path.append('../Scripts/')\n",
    "from segmentation_utils import *\n",
    "from metrics import *\n",
    "from image_utils import *"
   ]
  },
  {
   "cell_type": "code",
   "execution_count": 2,
   "metadata": {},
   "outputs": [],
   "source": [
    "def calculate(path_list):\n",
    "    df = pd.DataFrame(columns = ['img_id','tort', 'dm', 'ip', 'tp', 'sd'])\n",
    "    all_metrics = []\n",
    "    all_img_ids = []\n",
    "    for i, path in tqdm(enumerate(path_list)):\n",
    "        img_orig = cv2.imread(path, 0)\n",
    "        seg_img = segment(img_orig)\n",
    "        all_points = get_points(seg_img)\n",
    "        all_unique = get_all_unique(all_points)\n",
    "        points = get_turning_points(seg_img,tolerance=2,min_angle=np.pi*0.15)\n",
    "        vessel_metrics = []\n",
    "        for j in range(len(all_unique)):\n",
    "            tort,dm,ip,tp,sd = tortousity(all_unique[j])\n",
    "            vessel_metrics.append([tort,dm,ip,tp,sd])\n",
    "            all_img_ids.append(path.split('/')[-1])\n",
    "        all_metrics.append(np.array(vessel_metrics))\n",
    "    df.img_id = all_img_ids\n",
    "    df.iloc[:, 1:6] = np.concatenate(all_metrics)\n",
    "    return df"
   ]
  },
  {
   "cell_type": "code",
   "execution_count": 3,
   "metadata": {},
   "outputs": [
    {
     "name": "stderr",
     "output_type": "stream",
     "text": [
      "2it [09:35, 304.31s/it]../Scripts/metrics.py:287: RuntimeWarning: invalid value encountered in double_scalars\n",
      "  dm+=al/cl-1\n",
      "../Scripts/metrics.py:292: RuntimeWarning: invalid value encountered in double_scalars\n",
      "  dm+=al/cl-1\n",
      "65it [12:08:18, 672.29s/it] \n"
     ]
    }
   ],
   "source": [
    "img_paths1 = sorted(glob.glob('../Data/SPIE_2020_Retinal_Tortuosity/Emmetropia/*')) #Original Folder\n",
    "img_paths2 = sorted(glob.glob('../Data/SPIE_2020_Retinal_Tortuosity/Myopia/*')) #Original Folder\n",
    "img_paths3 = sorted(glob.glob('../Data/SPIE_2020_Retinal_Tortuosity/Hypermetropia/*')) #Original Folder\n",
    "img_paths = img_paths1 + img_paths2 + img_paths3\n",
    "\n",
    "df = calculate(img_paths)"
   ]
  },
  {
   "cell_type": "code",
   "execution_count": 35,
   "metadata": {},
   "outputs": [],
   "source": [
    "img_paths1 = sorted(os.listdir('../Data/SPIE_2020_Retinal_Tortuosity/Emmetropia/')) #Original Folder\n",
    "img_paths2 = sorted(os.listdir('../Data/SPIE_2020_Retinal_Tortuosity/Myopia/')) #Original Folder\n",
    "img_paths3 = sorted(os.listdir('../Data/SPIE_2020_Retinal_Tortuosity/Hypermetropia/')) #Original Folder\n",
    "class_mapping1 = { i : 'Emmetropia' for i in img_paths1 }\n",
    "class_mapping2 = { i : 'Myopia' for i in img_paths2 }\n",
    "class_mapping3 = { i : 'Hypermetropia' for i in img_paths3 }"
   ]
  },
  {
   "cell_type": "code",
   "execution_count": 36,
   "metadata": {},
   "outputs": [],
   "source": [
    "class_mapping = {**class_mapping1, **class_mapping2, **class_mapping3}"
   ]
  },
  {
   "cell_type": "code",
   "execution_count": 37,
   "metadata": {},
   "outputs": [
    {
     "name": "stderr",
     "output_type": "stream",
     "text": [
      "/home/arnav0400/.local/lib/python3.7/site-packages/pandas/core/indexing.py:670: SettingWithCopyWarning: \n",
      "A value is trying to be set on a copy of a slice from a DataFrame\n",
      "\n",
      "See the caveats in the documentation: https://pandas.pydata.org/pandas-docs/stable/user_guide/indexing.html#returning-a-view-versus-a-copy\n",
      "  self._setitem_with_indexer(indexer, value)\n"
     ]
    }
   ],
   "source": [
    "df['Class'] = ''\n",
    "for i in range(len(df)):\n",
    "    df.Class.iloc[i] = class_mapping[df.img_id.iloc[i]]"
   ]
  },
  {
   "cell_type": "code",
   "execution_count": 39,
   "metadata": {},
   "outputs": [
    {
     "data": {
      "text/plain": [
       "Hypermetropia    1571\n",
       "Emmetropia       1365\n",
       "Myopia           1364\n",
       "Name: Class, dtype: int64"
      ]
     },
     "execution_count": 39,
     "metadata": {},
     "output_type": "execute_result"
    }
   ],
   "source": [
    "df.Class.value_counts()"
   ]
  },
  {
   "cell_type": "code",
   "execution_count": 40,
   "metadata": {},
   "outputs": [],
   "source": [
    "df.to_csv('../Data/complete_data.csv', index = False)"
   ]
  },
  {
   "cell_type": "code",
   "execution_count": null,
   "metadata": {},
   "outputs": [],
   "source": []
  }
 ],
 "metadata": {
  "kernelspec": {
   "display_name": "Python 3",
   "language": "python",
   "name": "python3"
  },
  "language_info": {
   "codemirror_mode": {
    "name": "ipython",
    "version": 3
   },
   "file_extension": ".py",
   "mimetype": "text/x-python",
   "name": "python",
   "nbconvert_exporter": "python",
   "pygments_lexer": "ipython3",
   "version": "3.7.6"
  }
 },
 "nbformat": 4,
 "nbformat_minor": 4
}
