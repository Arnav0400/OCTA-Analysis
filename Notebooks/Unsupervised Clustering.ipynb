{
 "cells": [
  {
   "cell_type": "code",
   "execution_count": 1,
   "metadata": {},
   "outputs": [],
   "source": [
    "import numpy as np\n",
    "import matplotlib.pyplot as plt\n",
    "import time\n",
    "import copy\n",
    "import os\n",
    "import random\n",
    "import cv2\n",
    "from torch.optim.lr_scheduler import ReduceLROnPlateau,StepLR\n",
    "import torch\n",
    "import torch.nn as nn\n",
    "from torch.nn import functional as F\n",
    "import torch.optim as optim\n",
    "import torch.backends.cudnn as cudnn\n",
    "from torch.utils.data import Dataset, DataLoader, sampler\n",
    "import torchvision\n",
    "from torchvision import datasets, models, transforms, utils\n",
    "import pandas as pd\n",
    "import warnings\n",
    "warnings.filterwarnings(\"ignore\")\n",
    "from tqdm import tqdm_notebook as tqdm\n",
    "import albumentations as aug\n",
    "from albumentations import (HorizontalFlip, VerticalFlip, Normalize, Resize, Rotate, Compose)\n",
    "from albumentations.pytorch import ToTensor\n",
    "from ranger import Ranger\n",
    "from clustering_utils import ClusterNet5g, IID_loss, provider\n",
    "plt.ion()\n",
    "\n",
    "def seed_everything(seed):\n",
    "    random.seed(seed)\n",
    "    os.environ['PYTHONHASHSEED'] = str(seed)\n",
    "    np.random.seed(seed)\n",
    "    torch.manual_seed(seed)\n",
    "    torch.cuda.manual_seed(seed)\n",
    "    torch.backends.cudnn.deterministic = True\n",
    "seed_everything(43)"
   ]
  },
  {
   "cell_type": "code",
   "execution_count": 38,
   "metadata": {},
   "outputs": [],
   "source": [
    "num_epochs = 8\n",
    "lr = 1e-5\n",
    "num_sub_heads = 5\n",
    "num_classes = 2\n",
    "net = ClusterNet5g(num_sub_heads, num_classes)\n",
    "optimiser = Ranger(net.parameters(),lr=lr)\n",
    "scheduler = ReduceLROnPlateau(optimiser,factor=0.5, mode=\"min\", patience=5, verbose=True,min_lr = 1e-5)\n",
    "net.cuda()\n",
    "net = torch.nn.DataParallel(net)\n",
    "net.train()\n",
    "batch_sz = 8\n",
    "input_sz = 420\n",
    "dataloaders = [provider(shape = input_sz, batch_size=batch_sz),provider(shape = input_sz, batch_size=batch_sz)]\n",
    "num_dataloaders = len(dataloaders)-1\n",
    "lamb = 1.1"
   ]
  },
  {
   "cell_type": "code",
   "execution_count": 39,
   "metadata": {
    "scrolled": false
   },
   "outputs": [
    {
     "data": {
      "application/vnd.jupyter.widget-view+json": {
       "model_id": "f58179c04af94a6c80bfaa61d7495e36",
       "version_major": 2,
       "version_minor": 0
      },
      "text/plain": [
       "HBox(children=(FloatProgress(value=0.0, max=8.0), HTML(value='')))"
      ]
     },
     "metadata": {},
     "output_type": "display_data"
    },
    {
     "name": "stdout",
     "output_type": "stream",
     "text": [
      "\n"
     ]
    }
   ],
   "source": [
    "def train():\n",
    "    epoch_loss = []\n",
    "    epoch_loss_no_lamb = []\n",
    "    tk0 = tqdm(range(num_epochs), total=num_epochs)\n",
    "    for e_i in tk0:\n",
    "\n",
    "      iterators = (d for d in dataloaders)\n",
    "\n",
    "      b_i = 0\n",
    "\n",
    "      avg_loss = 0.\n",
    "      avg_loss_no_lamb = 0.\n",
    "      avg_loss_count = 0\n",
    "\n",
    "      for tup in zip(*iterators):\n",
    "        net.zero_grad()\n",
    "\n",
    "        all_imgs = torch.zeros(batch_sz, 1,\n",
    "                               input_sz//2,\n",
    "                               input_sz//2).cuda()\n",
    "        all_imgs_tf = torch.zeros(batch_sz, 1,\n",
    "                                  input_sz//2,\n",
    "                                  input_sz//2).cuda()\n",
    "\n",
    "        imgs_curr = tup[0][0]  # always the first\n",
    "        curr_batch_sz = imgs_curr.size(0)\n",
    "        for d_i in range(num_dataloaders):\n",
    "          imgs_tf_curr = tup[1 + d_i][0]  # from 2nd to last\n",
    "          assert (curr_batch_sz == imgs_tf_curr.size(0))\n",
    "\n",
    "          actual_batch_start = d_i * curr_batch_sz\n",
    "          actual_batch_end = actual_batch_start + curr_batch_sz\n",
    "          all_imgs[actual_batch_start:actual_batch_end, :, :, :] = \\\n",
    "            imgs_curr.cuda()\n",
    "          all_imgs_tf[actual_batch_start:actual_batch_end, :, :, :] = \\\n",
    "            imgs_tf_curr.cuda()\n",
    "\n",
    "        curr_total_batch_sz = curr_batch_sz * num_dataloaders  # times 2\n",
    "        all_imgs = all_imgs[:curr_total_batch_sz, :, :, :]\n",
    "        all_imgs_tf = all_imgs_tf[:curr_total_batch_sz, :, :, :]\n",
    "\n",
    "        x_outs = net(all_imgs)\n",
    "        x_tf_outs = net(all_imgs_tf)\n",
    "\n",
    "        avg_loss_batch = None  # avg over the heads\n",
    "        avg_loss_no_lamb_batch = None\n",
    "        for i in range(num_sub_heads):\n",
    "          loss, loss_no_lamb = IID_loss(x_outs[i], x_tf_outs[i], lamb=lamb)\n",
    "          if avg_loss_batch is None:\n",
    "            avg_loss_batch = loss\n",
    "            avg_loss_no_lamb_batch = loss_no_lamb\n",
    "          else:\n",
    "            avg_loss_batch += loss\n",
    "            avg_loss_no_lamb_batch += loss_no_lamb\n",
    "\n",
    "        avg_loss_batch /= num_sub_heads\n",
    "        avg_loss_no_lamb_batch /= num_sub_heads\n",
    "\n",
    "        if not np.isfinite(avg_loss_batch.item()):\n",
    "          print(\"Loss is not finite... %s:\" % str(avg_loss_batch))\n",
    "          exit(1)\n",
    "\n",
    "        avg_loss += avg_loss_batch.item()\n",
    "        avg_loss_no_lamb += avg_loss_no_lamb_batch.item()\n",
    "        avg_loss_count += 1\n",
    "\n",
    "        avg_loss_batch.backward()\n",
    "\n",
    "        optimiser.step()\n",
    "\n",
    "        b_i += 1\n",
    "      avg_loss = float(avg_loss / avg_loss_count)\n",
    "      avg_loss_no_lamb = float(avg_loss_no_lamb / avg_loss_count)\n",
    "#       scheduler.step(avg_loss)\n",
    "      tk0.set_postfix(loss = avg_loss, loss_nolamb = avg_loss_no_lamb)\n",
    "      epoch_loss.append(avg_loss)\n",
    "      epoch_loss_no_lamb.append(avg_loss_no_lamb)\n",
    "      torch.cuda.empty_cache()\n",
    "    \n",
    "    return epoch_loss\n",
    "epoch_loss = train()"
   ]
  },
  {
   "cell_type": "code",
   "execution_count": 40,
   "metadata": {},
   "outputs": [
    {
     "data": {
      "image/png": "[encoded data removed]",
      "text/plain": [
       "<Figure size 432x288 with 1 Axes>"
      ]
     },
     "metadata": {
      "needs_background": "light"
     },
     "output_type": "display_data"
    }
   ],
   "source": [
    "plt.plot(np.arange(0,num_epochs,1),epoch_loss)\n",
    "plt.show()"
   ]
  },
  {
   "cell_type": "code",
   "execution_count": 41,
   "metadata": {},
   "outputs": [],
   "source": [
    "test_data = provider(batch_size=1, train = False)"
   ]
  },
  {
   "cell_type": "code",
   "execution_count": 42,
   "metadata": {
    "scrolled": false
   },
   "outputs": [
    {
     "data": {
      "text/plain": [
       "1    215\n",
       "dtype: int64"
      ]
     },
     "execution_count": 42,
     "metadata": {},
     "output_type": "execute_result"
    }
   ],
   "source": [
    "net.eval()\n",
    "preds = []\n",
    "for i, img in enumerate(test_data):\n",
    "#     plt.imshow(img[0,0,...],cmap = 'gray')\n",
    "#     plt.show()\n",
    "    img = img.cuda()\n",
    "    outs = net(img)\n",
    "    final_out  = 0\n",
    "    for out in outs:\n",
    "        final_out+=out.detach().cpu().numpy()\n",
    "    classes = final_out.argmax(axis = 1)\n",
    "    for classs in classes:\n",
    "        preds.append(classs)\n",
    "    torch.cuda.empty_cache()\n",
    "#     print(classs)\n",
    "pd.Series(preds).value_counts()"
   ]
  },
  {
   "cell_type": "code",
   "execution_count": 43,
   "metadata": {
    "scrolled": false
   },
   "outputs": [
    {
     "data": {
      "text/plain": [
       "1    105\n",
       "dtype: int64"
      ]
     },
     "execution_count": 43,
     "metadata": {},
     "output_type": "execute_result"
    }
   ],
   "source": [
    "pd.Series(preds[:105]).value_counts()"
   ]
  },
  {
   "cell_type": "code",
   "execution_count": 44,
   "metadata": {},
   "outputs": [
    {
     "data": {
      "text/plain": [
       "1    110\n",
       "dtype: int64"
      ]
     },
     "execution_count": 44,
     "metadata": {},
     "output_type": "execute_result"
    }
   ],
   "source": [
    "pd.Series(preds[105:]).value_counts()"
   ]
  },
  {
   "cell_type": "code",
   "execution_count": 9,
   "metadata": {},
   "outputs": [
    {
     "data": {
      "text/plain": [
       "'\\nlambda-2.0\\n\\n0    105\\n1     61\\n2     49\\n\\n0    60\\n2    23\\n1    22\\n\\n0    45\\n1    39\\n2    26\\n\\nlambda-1.5\\n\\n1    97\\n2    85\\n0    33\\n\\n2    50\\n1    38\\n0    17\\n\\n1    59\\n2    35\\n0    16\\n\\nlambda-1.2\\n\\n0    84\\n2    79\\n1    52\\n\\n2    48\\n0    35\\n1    22\\n\\n0    49\\n2    31\\n1    30\\n\\nlambda-1.1\\n\\n2    88\\n0    70\\n1    57\\n\\n0    43\\n2    38\\n1    24\\n\\n2    50\\n1    33\\n0    27\\n\\nlambda-1.01\\n\\n0    89\\n2    85\\n1    41\\n\\n0    44\\n2    36\\n1    25\\n\\n2    49\\n0    45\\n1    16\\n\\nlambda-1.001\\n\\n0    119\\n2     66\\n1     30\\n\\n0    49\\n2    43\\n1    13\\n\\n0    70\\n2    23\\n1    17\\n'"
      ]
     },
     "execution_count": 9,
     "metadata": {},
     "output_type": "execute_result"
    }
   ],
   "source": [
    "#Rsults - \n",
    "num_epochs = 20\n",
    "lr = 1e-5\n",
    "num_sub_heads = 5\n",
    "num_classes = 3\n",
    "'''\n",
    "lambda-2.0\n",
    "\n",
    "0    105\n",
    "1     61\n",
    "2     49\n",
    "\n",
    "0    60\n",
    "2    23\n",
    "1    22\n",
    "\n",
    "0    45\n",
    "1    39\n",
    "2    26\n",
    "\n",
    "lambda-1.5\n",
    "\n",
    "1    97\n",
    "2    85\n",
    "0    33\n",
    "\n",
    "2    50\n",
    "1    38\n",
    "0    17\n",
    "\n",
    "1    59\n",
    "2    35\n",
    "0    16\n",
    "\n",
    "lambda-1.2\n",
    "\n",
    "0    84\n",
    "2    79\n",
    "1    52\n",
    "\n",
    "2    48\n",
    "0    35\n",
    "1    22\n",
    "\n",
    "0    49\n",
    "2    31\n",
    "1    30\n",
    "\n",
    "lambda-1.1\n",
    "\n",
    "2    88\n",
    "0    70\n",
    "1    57\n",
    "\n",
    "0    43\n",
    "2    38\n",
    "1    24\n",
    "\n",
    "2    50\n",
    "1    33\n",
    "0    27\n",
    "\n",
    "lambda-1.01\n",
    "\n",
    "0    89\n",
    "2    85\n",
    "1    41\n",
    "\n",
    "0    44\n",
    "2    36\n",
    "1    25\n",
    "\n",
    "2    49\n",
    "0    45\n",
    "1    16\n",
    "\n",
    "lambda-1.001\n",
    "\n",
    "0    119\n",
    "2     66\n",
    "1     30\n",
    "\n",
    "0    49\n",
    "2    43\n",
    "1    13\n",
    "\n",
    "0    70\n",
    "2    23\n",
    "1    17\n",
    "'''"
   ]
  },
  {
   "cell_type": "code",
   "execution_count": null,
   "metadata": {},
   "outputs": [],
   "source": []
  }
 ],
 "metadata": {
  "kernelspec": {
   "display_name": "Python 3",
   "language": "python",
   "name": "python3"
  },
  "language_info": {
   "codemirror_mode": {
    "name": "ipython",
    "version": 3
   },
   "file_extension": ".py",
   "mimetype": "text/x-python",
   "name": "python",
   "nbconvert_exporter": "python",
   "pygments_lexer": "ipython3",
   "version": "3.7.3"
  }
 },
 "nbformat": 4,
 "nbformat_minor": 2
}
